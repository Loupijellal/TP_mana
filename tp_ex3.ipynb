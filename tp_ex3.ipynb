{
 "cells": [
  {
   "cell_type": "code",
   "execution_count": null,
   "metadata": {},
   "outputs": [],
   "source": [
    "import numpy as np\n",
    "import matplotlib.pyplot as plt\n",
    "\n",
    "# fonction lorentzienne\n",
    "def f(t):\n",
    "    return (1+(1+t)**2)**(-1)\n",
    "\n",
    "# signal bruité\n",
    "tmin=-5.0\n",
    "tmax=5.0\n",
    "N=200\n",
    "Te=(tmax-tmin)/N\n",
    "t=np.linspace(tmin,tmax,N)\n",
    "noise=np.random.normal(0,0.05,N) # bruit gaussien\n",
    "y=f(t)+noise\n",
    "plt.figure(1)\n",
    "plt.plot(t,y,'k-')\n",
    "plt.grid()\n",
    "plt.rc('text', usetex=True)\n",
    "plt.rc('font', family='serif')\n",
    "plt.xlabel(f'$t$',fontsize=16)\n",
    "plt.ylim([-0.5,1.5])"
   ]
  }
 ],
 "metadata": {
  "kernelspec": {
   "display_name": "Python (my_env)",
   "language": "python",
   "name": "my_env"
  },
  "language_info": {
   "codemirror_mode": {
    "name": "ipython",
    "version": 3
   },
   "file_extension": ".py",
   "mimetype": "text/x-python",
   "name": "python",
   "nbconvert_exporter": "python",
   "pygments_lexer": "ipython3",
   "version": "3.8.13"
  },
  "vscode": {
   "interpreter": {
    "hash": "25736d5f455d3fe34ba9b7e943113e3520b391598dd425a2f369307d8bbac4f3"
   }
  }
 },
 "nbformat": 4,
 "nbformat_minor": 2
}
