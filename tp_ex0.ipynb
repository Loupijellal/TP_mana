{
 "cells": [
  {
   "cell_type": "code",
   "execution_count": 17,
   "metadata": {},
   "outputs": [
    {
     "data": {
      "text/plain": [
       "Text(0.5, 1.0, 'triangle standard')"
      ]
     },
     "execution_count": 17,
     "metadata": {},
     "output_type": "execute_result"
    },
    {
     "data": {
      "image/png": "[encoded data removed]",
      "text/plain": [
       "<Figure size 432x216 with 2 Axes>"
      ]
     },
     "metadata": {
      "needs_background": "light"
     },
     "output_type": "display_data"
    }
   ],
   "source": [
    "import numpy as np\n",
    "import matplotlib.pyplot as plt\n",
    "\n",
    "# fonction porte standard\n",
    "def porte(t):\n",
    "    y=(abs(t)<0.5)\n",
    "    return np.float16(y)\n",
    "\n",
    "# fonction triangle standard\n",
    "def triangle(t):\n",
    "    y=(1-abs(t))*(abs(t)<1)\n",
    "    return np.float16(y)\n",
    "\n",
    "tmin=-4\n",
    "tmax=4\n",
    "nb_pts=200\n",
    "t=np.linspace(tmin,tmax,nb_pts)\n",
    "\n",
    "##### affichage\n",
    "plt.figure(1,figsize=(6,3))\n",
    "plt.rc('text', usetex=True)\n",
    "plt.rc('font', family='serif')\n",
    "\n",
    "# porte\n",
    "plt.subplot(121)\n",
    "plt.plot(t,porte(t),'-k')\n",
    "plt.grid()\n",
    "plt.xlabel(f'$t$',fontsize=16)\n",
    "plt.title(f'porte standard',fontsize=16)\n",
    "\n",
    "# triangle\n",
    "plt.subplot(122)\n",
    "plt.plot(t,triangle(t),'-k')\n",
    "plt.grid()\n",
    "plt.xlabel(f'$t$',fontsize=16)\n",
    "plt.title(f'triangle standard',fontsize=16)"
   ]
  }
 ],
 "metadata": {
  "kernelspec": {
   "display_name": "Python (my_env)",
   "language": "python",
   "name": "my_env"
  },
  "language_info": {
   "codemirror_mode": {
    "name": "ipython",
    "version": 3
   },
   "file_extension": ".py",
   "mimetype": "text/x-python",
   "name": "python",
   "nbconvert_exporter": "python",
   "pygments_lexer": "ipython3",
   "version": "3.8.13"
  },
  "orig_nbformat": 4,
  "vscode": {
   "interpreter": {
    "hash": "25736d5f455d3fe34ba9b7e943113e3520b391598dd425a2f369307d8bbac4f3"
   }
  }
 },
 "nbformat": 4,
 "nbformat_minor": 2
}
